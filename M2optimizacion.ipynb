{
 "cells": [
  {
   "cell_type": "markdown",
   "metadata": {},
   "source": [
    "# Módulo Nº 2 \n",
    "## Calculo Avanzado-MAT1189-1-2021-1\n",
    "## Proyecto Abril \"optimización\"\n",
    "### Integrantes: Enrique Cayupan, Bryan Silva, Dennis Riffo.\n",
    "\n",
    "\n"
   ]
  },
  {
   "cell_type": "markdown",
   "metadata": {},
   "source": [
    "El modelo que elegimos para realizar la optimizacion es el Weibull, que se define mediante la siguiente funcion:"
   ]
  },
  {
   "cell_type": "markdown",
   "metadata": {},
   "source": [
    "$u(t)=1-e^{-at}$"
   ]
  },
  {
   "cell_type": "markdown",
   "metadata": {},
   "source": [
    "Posteriormente el resultado de nuestro modelo lo reemplazaremos en la funcion de costo que se define por:"
   ]
  },
  {
   "cell_type": "markdown",
   "metadata": {},
   "source": [
    "$f(p)=\\sum_{i=1}^{n}(y(p;x_i)-\\hat{y}_i)^2$"
   ]
  },
  {
   "cell_type": "markdown",
   "metadata": {},
   "source": [
    "Para graficar nuestro modelo en Python ocupamos los modulos de numpy y matplotlib"
   ]
  },
  {
   "cell_type": "code",
   "execution_count": 1,
   "metadata": {},
   "outputs": [],
   "source": [
    "import numpy as np\n",
    "import matplotlib.pyplot as plt\n"
   ]
  },
  {
   "cell_type": "markdown",
   "metadata": {},
   "source": [
    "Nuestra variables estaran definidas de manera secuencial en el caso del tiempo, el cual partira con el valor  \n",
    "0.1 hasta 1.0 con paso 0.1. Y los valores de entrada estaran definidos en un arreglo de 10 elementos,  \n",
    "los cuales asignamos manualmente para alcanzar los resultados propuestos segun la ilustracion de la tabla presente \n",
    "en el documento 'guion'."
   ]
  },
  {
   "cell_type": "code",
   "execution_count": 2,
   "metadata": {},
   "outputs": [],
   "source": [
    "t = np.linspace(0.1, 1.0, 10)\n",
    "valorEnt = [-2.232,-1.8,-2.0,-2.0,-1.85,-2.01,-2.0,-2.012,-1.8,-1.65]"
   ]
  },
  {
   "cell_type": "markdown",
   "metadata": {},
   "source": [
    "Definiremos el modelo a modo de funcion con los parametros que necesitaremos para\n",
    "que esta retorne el resultado de la funcion Weibull."
   ]
  },
  {
   "cell_type": "code",
   "execution_count": 3,
   "metadata": {},
   "outputs": [],
   "source": [
    "def modelo(t,a):\n",
    "    e=2.718281828459\n",
    "    func = 1-e**(a*t)\n",
    "    return func"
   ]
  },
  {
   "cell_type": "markdown",
   "metadata": {},
   "source": [
    "Luego para graficar utilizamos plot y en sus parametros llamamos a la funcion del modelo de Weibull que se definio anteriormente."
   ]
  },
  {
   "cell_type": "code",
   "execution_count": 4,
   "metadata": {},
   "outputs": [
    {
     "data": {
      "text/plain": [
       "[<matplotlib.lines.Line2D at 0x20ab685cdf0>]"
      ]
     },
     "execution_count": 4,
     "metadata": {},
     "output_type": "execute_result"
    },
    {
     "data": {
      "image/png": "[encoded data removed]",
      "text/plain": [
       "<Figure size 432x288 with 1 Axes>"
      ]
     },
     "metadata": {
      "needs_background": "light"
     },
     "output_type": "display_data"
    }
   ],
   "source": [
    "plt.plot(t,modelo(t,valorEnt))"
   ]
  },
  {
   "cell_type": "markdown",
   "metadata": {},
   "source": [
    "Como resultado obtendremos los siguientes valores:"
   ]
  },
  {
   "cell_type": "code",
   "execution_count": 5,
   "metadata": {},
   "outputs": [
    {
     "name": "stdout",
     "output_type": "stream",
     "text": [
      "[0.20004516 0.30232367 0.45118836 0.55067104 0.60346858 0.70060754\n",
      " 0.75340304 0.80003241 0.8021013  0.80795009]\n"
     ]
    }
   ],
   "source": [
    "print(modelo(t,valorEnt))"
   ]
  }
 ],
 "metadata": {
  "kernelspec": {
   "display_name": "Python 3",
   "language": "python",
   "name": "python3"
  },
  "language_info": {
   "codemirror_mode": {
    "name": "ipython",
    "version": 3
   },
   "file_extension": ".py",
   "mimetype": "text/x-python",
   "name": "python",
   "nbconvert_exporter": "python",
   "pygments_lexer": "ipython3",
   "version": "3.8.3"
  }
 },
 "nbformat": 4,
 "nbformat_minor": 4
}
